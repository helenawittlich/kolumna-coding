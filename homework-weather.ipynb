{
 "cells": [
  {
   "cell_type": "code",
   "execution_count": 60,
   "id": "529c4e44",
   "metadata": {},
   "outputs": [
    {
     "data": {
      "text/plain": [
       "True"
      ]
     },
     "execution_count": 60,
     "metadata": {},
     "output_type": "execute_result"
    }
   ],
   "source": [
    "import geocoder\n",
    "from dotenv import load_dotenv\n",
    "import os\n",
    "import requests\n",
    "\n",
    "load_dotenv()"
   ]
  },
  {
   "cell_type": "markdown",
   "id": "13bed81b",
   "metadata": {},
   "source": [
    "__Examine both Open Meteo and Tomorrow and decide which one you'd prefer to use. What drove your decision?__\n",
    "\n",
    "After a first scim throught the documentaions I leaned towards the Tomorrow.io API since their code looked much easier in the beginning - request seemed familiar. But I like the Meteo API transparency about their sources. It is free.  If you are just looking at weather, they provide a lot of data (including historic data). After finding the URL/Link with the different parameters and they were both equally hard to do, I decided to go for the free solution."
   ]
  },
  {
   "cell_type": "code",
   "execution_count": 61,
   "id": "50d9b428",
   "metadata": {},
   "outputs": [],
   "source": [
    "\n",
    "# api_key_weather=os.getenv(\"API_KEY_WEATHER\")\n",
    "\n",
    "# headers = {\n",
    "#     \"accept\": \"application/json\"\n",
    "# }\n",
    "\n",
    "# response = requests.get(f\"https://api.tomorrow.io/v4/weather/realtime?location=toronto&apikey={api_key_weather}\", headers=headers)\n",
    "\n",
    "# mainz = response.json()\n",
    "# mainz['data']['values']"
   ]
  },
  {
   "cell_type": "code",
   "execution_count": 62,
   "id": "6beb0355",
   "metadata": {},
   "outputs": [],
   "source": [
    "api_key=os.getenv(\"API_KEY\")\n",
    "\n",
    "location1 = \"Mainz\"\n",
    "g = geocoder.google(location1, key=api_key)\n",
    "lat1 = g.lat\n",
    "lon1 = g.lng\n",
    "country1 = g.country"
   ]
  },
  {
   "cell_type": "code",
   "execution_count": 63,
   "id": "660bc32a",
   "metadata": {},
   "outputs": [
    {
     "data": {
      "text/plain": [
       "15.9"
      ]
     },
     "execution_count": 63,
     "metadata": {},
     "output_type": "execute_result"
    }
   ],
   "source": [
    "response = requests.get(f\"https://api.open-meteo.com/v1/forecast?latitude={lat1}&longitude={lon1}&current=temperature_2m,apparent_temperature&timezone=auto\")\n",
    "\n",
    "mainz_meteo = response.json()\n",
    "mainz_meteo['current']['temperature_2m']"
   ]
  },
  {
   "cell_type": "markdown",
   "id": "d2d00065",
   "metadata": {},
   "source": [
    "__Print out the country this location is in.__\n",
    "Its not in the weather data from Meteo, but I saved at least the country code from google."
   ]
  },
  {
   "cell_type": "code",
   "execution_count": 64,
   "id": "f34fe4f8",
   "metadata": {},
   "outputs": [
    {
     "data": {
      "text/plain": [
       "'DE'"
      ]
     },
     "execution_count": 64,
     "metadata": {},
     "output_type": "execute_result"
    }
   ],
   "source": [
    "country1"
   ]
  },
  {
   "cell_type": "markdown",
   "id": "c688dbe7",
   "metadata": {},
   "source": [
    "__Print out the difference between the current temperature and how warm it feels. Use \"It feels ___ degrees colder\" or \"It feels ___ degrees warmer,\" not negative numbers.__"
   ]
  },
  {
   "cell_type": "code",
   "execution_count": null,
   "id": "93927c13",
   "metadata": {},
   "outputs": [
    {
     "data": {
      "text/plain": [
       "{'time': '2025-06-10T00:00',\n",
       " 'interval': 900,\n",
       " 'temperature_2m': 15.9,\n",
       " 'apparent_temperature': 15.2}"
      ]
     },
     "execution_count": 70,
     "metadata": {},
     "output_type": "execute_result"
    }
   ],
   "source": [
    "mainz_meteo['current']\n",
    "\n",
    "current = mainz_meteo['current']['temperature_2m']\n",
    "feelslike = mainz_meteo['current']['apparent_temperature']\n"
   ]
  }
 ],
 "metadata": {
  "kernelspec": {
   "display_name": "3.12.8",
   "language": "python",
   "name": "python3"
  },
  "language_info": {
   "codemirror_mode": {
    "name": "ipython",
    "version": 3
   },
   "file_extension": ".py",
   "mimetype": "text/x-python",
   "name": "python",
   "nbconvert_exporter": "python",
   "pygments_lexer": "ipython3",
   "version": "3.12.8"
  }
 },
 "nbformat": 4,
 "nbformat_minor": 5
}
