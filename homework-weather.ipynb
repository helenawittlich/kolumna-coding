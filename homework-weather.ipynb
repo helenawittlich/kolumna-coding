{
 "cells": [
  {
   "cell_type": "code",
   "execution_count": 1,
   "id": "529c4e44",
   "metadata": {},
   "outputs": [
    {
     "data": {
      "text/plain": [
       "True"
      ]
     },
     "execution_count": 1,
     "metadata": {},
     "output_type": "execute_result"
    }
   ],
   "source": [
    "import geocoder\n",
    "from dotenv import load_dotenv\n",
    "import os\n",
    "import requests\n",
    "\n",
    "load_dotenv()"
   ]
  },
  {
   "cell_type": "markdown",
   "id": "13bed81b",
   "metadata": {},
   "source": [
    "__Examine both Open Meteo and Tomorrow and decide which one you'd prefer to use. What drove your decision?__\n",
    "\n",
    "Tomorrow.io API seemed easier at first - with familiar elements such as request. But I like the Meteo API transparency about their sources. And it is free.  \n",
    "After finding the URL/Link with the different parameters and some test runs, they seemed both equally hard to do. Thus, I decided to go for the free solution.\n",
    "\n",
    "Here is [the documentation](https://open-meteo.com/en/docs)"
   ]
  },
  {
   "cell_type": "code",
   "execution_count": 2,
   "id": "50d9b428",
   "metadata": {},
   "outputs": [],
   "source": [
    "\n",
    "# api_key_weather=os.getenv(\"API_KEY_WEATHER\")\n",
    "\n",
    "# headers = {\n",
    "#     \"accept\": \"application/json\"\n",
    "# }\n",
    "\n",
    "# response = requests.get(f\"https://api.tomorrow.io/v4/weather/realtime?location=toronto&apikey={api_key_weather}\", headers=headers)\n",
    "\n",
    "# mainz = response.json()\n",
    "# mainz['data']['values']"
   ]
  },
  {
   "cell_type": "code",
   "execution_count": 3,
   "id": "6beb0355",
   "metadata": {},
   "outputs": [],
   "source": [
    "api_key=os.getenv(\"API_KEY\")\n",
    "\n",
    "location_mz = \"Mainz\"\n",
    "g = geocoder.google(location_mz, key=api_key)\n",
    "lat_mz = g.lat\n",
    "lon_mz = g.lng\n",
    "country_mz = g.country"
   ]
  },
  {
   "cell_type": "code",
   "execution_count": 4,
   "id": "660bc32a",
   "metadata": {},
   "outputs": [
    {
     "data": {
      "text/plain": [
       "12.9"
      ]
     },
     "execution_count": 4,
     "metadata": {},
     "output_type": "execute_result"
    }
   ],
   "source": [
    "response = requests.get(f\"https://api.open-meteo.com/v1/forecast?latitude={lat_mz}&longitude={lon_mz}&current=temperature_2m,apparent_temperature&timezone=auto\")\n",
    "\n",
    "mainz = response.json()\n",
    "mainz['current']['temperature_2m']"
   ]
  },
  {
   "cell_type": "markdown",
   "id": "d2d00065",
   "metadata": {},
   "source": [
    "__Print out the country this location is in.__\n",
    "Its not in the weather data from Meteo, but I saved at least the country code from google."
   ]
  },
  {
   "cell_type": "code",
   "execution_count": 5,
   "id": "f34fe4f8",
   "metadata": {},
   "outputs": [
    {
     "data": {
      "text/plain": [
       "'DE'"
      ]
     },
     "execution_count": 5,
     "metadata": {},
     "output_type": "execute_result"
    }
   ],
   "source": [
    "country_mz"
   ]
  },
  {
   "cell_type": "markdown",
   "id": "c688dbe7",
   "metadata": {},
   "source": [
    "__Print out the difference between the current temperature and how warm it feels. Use \"It feels ___ degrees colder\" or \"It feels ___ degrees warmer,\" not negative numbers.__"
   ]
  },
  {
   "cell_type": "code",
   "execution_count": 6,
   "id": "93927c13",
   "metadata": {},
   "outputs": [
    {
     "name": "stdout",
     "output_type": "stream",
     "text": [
      "It feels as it is.\n"
     ]
    }
   ],
   "source": [
    "current = mainz['current']['temperature_2m']\n",
    "feelslike = mainz['current']['apparent_temperature']\n",
    "\n",
    "diff = abs(current - feelslike)\n",
    "\n",
    "if current > feelslike:\n",
    "    print(f'It feels {diff:.1f} colder.')\n",
    "elif current < feelslike:\n",
    "    print(f'It feels {diff:.1f} warmer.')\n",
    "else:\n",
    "    print(f'It feels as it is.')"
   ]
  },
  {
   "cell_type": "markdown",
   "id": "e0f31ad3",
   "metadata": {},
   "source": [
    "__What's the current temperature at Heathrow International Airport? Use the airport's IATA code to search.__"
   ]
  },
  {
   "cell_type": "code",
   "execution_count": 7,
   "id": "6ccaefb2",
   "metadata": {},
   "outputs": [],
   "source": [
    "api_key=os.getenv(\"API_KEY\")\n",
    "\n",
    "lhr = \"LHR\"\n",
    "g = geocoder.google(lhr, key=api_key)\n",
    "lat_lhr = g.lat\n",
    "lon_lhr = g.lng\n",
    "country_lhr = g.country\n",
    "# print(lat_lhr,lon_lhr)"
   ]
  },
  {
   "cell_type": "code",
   "execution_count": 8,
   "id": "d4e7b2a8",
   "metadata": {},
   "outputs": [
    {
     "data": {
      "text/plain": [
       "'It is 13.2 Celsius in Heathrow.'"
      ]
     },
     "execution_count": 8,
     "metadata": {},
     "output_type": "execute_result"
    }
   ],
   "source": [
    "response = requests.get(f\"https://api.open-meteo.com/v1/forecast?latitude={lat_lhr}&longitude={lon_lhr}&daily=temperature_2m_max,temperature_2m_min&current=temperature_2m&timezone=auto&forecast_days=3\")\n",
    "\n",
    "heathrow = response.json()\n",
    "f\"It is {heathrow['current']['temperature_2m']} Celsius in Heathrow.\""
   ]
  },
  {
   "cell_type": "markdown",
   "id": "9a7d4e3f",
   "metadata": {},
   "source": [
    "__Print the date of each of the 3 days you're getting a forecast for.__"
   ]
  },
  {
   "cell_type": "code",
   "execution_count": 9,
   "id": "31e1feb5",
   "metadata": {},
   "outputs": [
    {
     "name": "stdout",
     "output_type": "stream",
     "text": [
      "2025-06-10\n",
      "2025-06-11\n",
      "2025-06-12\n"
     ]
    }
   ],
   "source": [
    "for day in heathrow['daily']['time']:\n",
    "    day = day\n",
    "    print(day)"
   ]
  },
  {
   "cell_type": "markdown",
   "id": "31887db8",
   "metadata": {},
   "source": [
    "__Print the maximum temperature of each of the days.__"
   ]
  },
  {
   "cell_type": "code",
   "execution_count": 10,
   "id": "30761158",
   "metadata": {},
   "outputs": [
    {
     "name": "stdout",
     "output_type": "stream",
     "text": [
      "22.2\n",
      "24.0\n",
      "22.1\n"
     ]
    }
   ],
   "source": [
    "for temperature in heathrow['daily']['temperature_2m_max']:\n",
    "    maximun = temperature\n",
    "    print(maximun)"
   ]
  },
  {
   "cell_type": "markdown",
   "id": "b4adbb15",
   "metadata": {},
   "source": [
    "__Print only the day with the highest maximum temperature.__"
   ]
  },
  {
   "cell_type": "code",
   "execution_count": 11,
   "id": "049f89c8",
   "metadata": {},
   "outputs": [
    {
     "name": "stdout",
     "output_type": "stream",
     "text": [
      "On 2025-06-11 is the maximun temperature of 24.0.\n"
     ]
    }
   ],
   "source": [
    "highest = heathrow['daily']['temperature_2m_max'][0]\n",
    "# date = heathrow['daily']['time'][0]\n",
    "highest_index = 0 \n",
    "count = 0\n",
    "\n",
    "for temp in heathrow['daily']['temperature_2m_max']:\n",
    "    if temp > heathrow['daily']['temperature_2m_max'][0]:\n",
    "        highest = temp\n",
    "        highest_index = count\n",
    "    count = count + 1    \n",
    "\n",
    "print(f'On {heathrow['daily']['time'][highest_index]} is the maximun temperature of {highest}.')\n"
   ]
  },
  {
   "cell_type": "markdown",
   "id": "25c254ed",
   "metadata": {},
   "source": [
    "__Did you find this easier or more difficult than using the weatherapi.com, and why? Which would you recommend to someone interesting in building a tool around weather information?__\n",
    "\n",
    "In the end, the data structure of the weatherapi.com was much easier (and to me: logical). I struggeled with the last part when I had to find the highest in a list, but was looking for another element from another list. I am woundering if there is a better way to get to the right index. Even though both had tools for example data, the weatherapi.com\n",
    "was a little quicker to understand. \n",
    "\n",
    "Thus, generelly I would recommend the weatherapi.com, but - if you have no money - I think Open Meteo would also be duable. Tomorrow.io has a lot of additional data like fire, pollen etc. So, in the end, it depends, I guess. \n"
   ]
  }
 ],
 "metadata": {
  "kernelspec": {
   "display_name": "3.12.8",
   "language": "python",
   "name": "python3"
  },
  "language_info": {
   "codemirror_mode": {
    "name": "ipython",
    "version": 3
   },
   "file_extension": ".py",
   "mimetype": "text/x-python",
   "name": "python",
   "nbconvert_exporter": "python",
   "pygments_lexer": "ipython3",
   "version": "3.12.8"
  }
 },
 "nbformat": 4,
 "nbformat_minor": 5
}
